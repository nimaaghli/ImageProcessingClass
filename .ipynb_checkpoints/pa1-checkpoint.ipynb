{
 "cells": [
  {
   "cell_type": "code",
   "execution_count": 4,
   "metadata": {
    "collapsed": false
   },
   "outputs": [],
   "source": [
    "%matplotlib inline\n",
    "from pylab import *\n",
    "import matplotlib\n",
    "import matplotlib.pyplot as plt\n",
    "import numpy as np\n",
    "import cv2\n",
    "import matplotlib.image as mpimg\n",
    "from pylab import *"
   ]
  },
  {
   "cell_type": "code",
   "execution_count": null,
   "metadata": {
    "collapsed": true
   },
   "outputs": [],
   "source": []
  },
  {
   "cell_type": "code",
   "execution_count": 5,
   "metadata": {
    "collapsed": false
   },
   "outputs": [
    {
     "ename": "ValueError",
     "evalue": "Only know how to handle extensions: ['png']; with Pillow installed matplotlib can handle more images",
     "output_type": "error",
     "traceback": [
      "\u001b[0;31m---------------------------------------------------------------------------\u001b[0m",
      "\u001b[0;31mValueError\u001b[0m                                Traceback (most recent call last)",
      "\u001b[0;32m<ipython-input-5-db527b3289d9>\u001b[0m in \u001b[0;36m<module>\u001b[0;34m()\u001b[0m\n\u001b[0;32m----> 1\u001b[0;31m \u001b[0mimg\u001b[0m\u001b[0;34m=\u001b[0m\u001b[0mmpimg\u001b[0m\u001b[0;34m.\u001b[0m\u001b[0mimread\u001b[0m\u001b[0;34m(\u001b[0m\u001b[0;34m'tom.jpg'\u001b[0m\u001b[0;34m)\u001b[0m\u001b[0;34m\u001b[0m\u001b[0m\n\u001b[0m\u001b[1;32m      2\u001b[0m \u001b[0mimg_p\u001b[0m \u001b[0;34m=\u001b[0m \u001b[0mcv2\u001b[0m\u001b[0;34m.\u001b[0m\u001b[0mimread\u001b[0m\u001b[0;34m(\u001b[0m\u001b[0;34m'tom.jpg'\u001b[0m\u001b[0;34m)\u001b[0m\u001b[0;34m\u001b[0m\u001b[0m\n\u001b[1;32m      3\u001b[0m \u001b[0mplt\u001b[0m\u001b[0;34m.\u001b[0m\u001b[0mimshow\u001b[0m\u001b[0;34m(\u001b[0m\u001b[0mimg\u001b[0m\u001b[0;34m)\u001b[0m\u001b[0;34m\u001b[0m\u001b[0m\n",
      "\u001b[0;32m/Users/nimaaghli/miniconda3/lib/python3.5/site-packages/matplotlib/image.py\u001b[0m in \u001b[0;36mimread\u001b[0;34m(fname, format)\u001b[0m\n\u001b[1;32m   1308\u001b[0m             raise ValueError('Only know how to handle extensions: %s; '\n\u001b[1;32m   1309\u001b[0m                              \u001b[0;34m'with Pillow installed matplotlib can handle '\u001b[0m\u001b[0;34m\u001b[0m\u001b[0m\n\u001b[0;32m-> 1310\u001b[0;31m                              'more images' % list(six.iterkeys(handlers)))\n\u001b[0m\u001b[1;32m   1311\u001b[0m         \u001b[0;32mreturn\u001b[0m \u001b[0mim\u001b[0m\u001b[0;34m\u001b[0m\u001b[0m\n\u001b[1;32m   1312\u001b[0m \u001b[0;34m\u001b[0m\u001b[0m\n",
      "\u001b[0;31mValueError\u001b[0m: Only know how to handle extensions: ['png']; with Pillow installed matplotlib can handle more images"
     ]
    }
   ],
   "source": [
    "img=mpimg.imread('tom.jpg')\n",
    "img_p = cv2.imread('tom.jpg')\n",
    "plt.imshow(img)\n"
   ]
  },
  {
   "cell_type": "code",
   "execution_count": null,
   "metadata": {
    "collapsed": false
   },
   "outputs": [],
   "source": [
    "\n",
    "histr = cv2.calcHist([img],[0],None,[256],[0,256])\n",
    "plt.plot(histr,color = 'b')\n",
    "plt.xlim([0,256])\n",
    "title('Blue Channel Histogram')\n",
    "plt.show()\n"
   ]
  },
  {
   "cell_type": "code",
   "execution_count": null,
   "metadata": {
    "collapsed": false
   },
   "outputs": [],
   "source": [
    "histr = cv2.calcHist([img],[1],None,[256],[0,256])\n",
    "plt.plot(histr,color = 'g')\n",
    "plt.xlim([0,256])\n",
    "title('Green Channel Histogram')\n",
    "plt.show()"
   ]
  },
  {
   "cell_type": "code",
   "execution_count": null,
   "metadata": {
    "collapsed": false
   },
   "outputs": [],
   "source": [
    "histr = cv2.calcHist([img],[2],None,[256],[0,256])\n",
    "plt.plot(histr,color = 'r')\n",
    "plt.xlim([0,256])\n",
    "title('Red Channel Histogram')\n",
    "plt.show()"
   ]
  },
  {
   "cell_type": "code",
   "execution_count": null,
   "metadata": {
    "collapsed": false
   },
   "outputs": [],
   "source": [
    "hsv= cv2.cvtColor(img,cv2.COLOR_BGR2HSV)"
   ]
  },
  {
   "cell_type": "code",
   "execution_count": null,
   "metadata": {
    "collapsed": false
   },
   "outputs": [],
   "source": [
    "title('HSV Image')\n",
    "imgplot = plt.imshow(hsv)\n"
   ]
  },
  {
   "cell_type": "code",
   "execution_count": null,
   "metadata": {
    "collapsed": false
   },
   "outputs": [],
   "source": [
    "histr = cv2.calcHist([hsv],[0],None,[256],[0,256])\n",
    "plt.plot(histr)\n",
    "plt.xlim([0,256])\n",
    "title('Hue Histogram')\n",
    "plt.show()"
   ]
  },
  {
   "cell_type": "code",
   "execution_count": null,
   "metadata": {
    "collapsed": true
   },
   "outputs": [],
   "source": []
  },
  {
   "cell_type": "code",
   "execution_count": null,
   "metadata": {
    "collapsed": false
   },
   "outputs": [],
   "source": [
    "histr = cv2.calcHist([hsv],[1],None,[256],[0,256])\n",
    "plt.plot(histr)\n",
    "plt.xlim([0,256])\n",
    "title('Saturation Histogram')\n",
    "plt.show()"
   ]
  },
  {
   "cell_type": "code",
   "execution_count": null,
   "metadata": {
    "collapsed": false
   },
   "outputs": [],
   "source": [
    "histr = cv2.calcHist([hsv],[2],None,[256],[0,256])\n",
    "plt.plot(histr)\n",
    "plt.xlim([0,256])\n",
    "title('Value Histogram')\n",
    "plt.show()"
   ]
  },
  {
   "cell_type": "code",
   "execution_count": null,
   "metadata": {
    "collapsed": false
   },
   "outputs": [],
   "source": [
    "cv2.imread('Fig0228(b).tif',cv2.IMREAD_GRAYSCALE).shape"
   ]
  },
  {
   "cell_type": "code",
   "execution_count": null,
   "metadata": {
    "collapsed": false
   },
   "outputs": [],
   "source": [
    "mask=cv2.imread('Fig0230(b).tif')\n",
    "figure()\n",
    "plt.imshow(mask)\n",
    "title('MASK')\n",
    "show()\n",
    "image=cv2.imread('Fig0230(a).tif')\n",
    "figure()\n",
    "plt.imshow(image)\n",
    "title('Raw Image')\n",
    "show()\n",
    "cv2.bitwise_and(image,mask,res)\n",
    "figure()\n",
    "title('After AND Operation Among Mask And Image ')\n",
    "plt.imshow(res)\n",
    "show()\n",
    "\n",
    "\n"
   ]
  },
  {
   "cell_type": "code",
   "execution_count": null,
   "metadata": {
    "collapsed": false
   },
   "outputs": [],
   "source": [
    "\n",
    "\n",
    "b=cv2.imread('Fig0228(b).tif',0) \n",
    "\n",
    "figure()\n",
    "plt.imshow(b,cmap='Greys_r')\n",
    "title('Live Image')\n",
    "show()\n",
    "a=cv2.imread('Fig0228(a).tif',0)\n",
    "figure()\n",
    "plt.imshow(a,cmap='Greys_r')\n",
    "title('Mask')\n",
    "show()\n",
    "\n",
    "c=cv2.subtract(a,b,mask=a,dtype=1)\n",
    "figure()\n",
    "plt.imshow(c,cmap='Greys_r')\n",
    "title('Subtracted Image')\n",
    "show()\n",
    "\n"
   ]
  },
  {
   "cell_type": "code",
   "execution_count": null,
   "metadata": {
    "collapsed": false
   },
   "outputs": [],
   "source": [
    "\n",
    "# Increase intensity such that\n",
    "# dark pixels become much brighter, \n",
    "# bright pixels become slightly bright\n",
    "\n",
    "maxIntensity = 255.0 # depends on dtype of image data\n",
    "x = arange(maxIntensity) \n",
    "phi = 0.8 #i have played with these numbers to get result im expecting \n",
    "theta = 1 #\n",
    "newImage0 = (maxIntensity/phi)*(c/(maxIntensity/theta))**0.5\n",
    "newImage0 = array(newImage0,dtype=uint8)\n",
    "figure()\n",
    "plt.imshow(newImage0,cmap='Greys_r')\n",
    "title('New Mask')\n",
    "show()\n",
    "\n",
    "c=cv2.subtract(b,newImage0,dtype=1)\n",
    "figure()\n",
    "plt.imshow(c,cmap='Greys_r')\n",
    "title('Substraction To New Mask')\n",
    "show()\n",
    "\n",
    "figure()\n",
    "plt.imshow(c)\n",
    "title('HSV Representation')\n",
    "show()\n"
   ]
  },
  {
   "cell_type": "code",
   "execution_count": null,
   "metadata": {
    "collapsed": false
   },
   "outputs": [],
   "source": []
  },
  {
   "cell_type": "code",
   "execution_count": null,
   "metadata": {
    "collapsed": true
   },
   "outputs": [],
   "source": []
  },
  {
   "cell_type": "code",
   "execution_count": null,
   "metadata": {
    "collapsed": true
   },
   "outputs": [],
   "source": []
  }
 ],
 "metadata": {
  "anaconda-cloud": {},
  "kernelspec": {
   "display_name": "Python 3",
   "language": "python",
   "name": "python3"
  },
  "language_info": {
   "codemirror_mode": {
    "name": "ipython",
    "version": 3
   },
   "file_extension": ".py",
   "mimetype": "text/x-python",
   "name": "python",
   "nbconvert_exporter": "python",
   "pygments_lexer": "ipython3",
   "version": "3.5.2"
  }
 },
 "nbformat": 4,
 "nbformat_minor": 0
}
